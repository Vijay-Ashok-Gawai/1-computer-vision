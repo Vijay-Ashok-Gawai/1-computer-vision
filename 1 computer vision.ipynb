{
 "cells": [
  {
   "cell_type": "code",
   "execution_count": 1,
   "id": "84c7e9d8",
   "metadata": {},
   "outputs": [],
   "source": [
    "import cv2\n",
    "import numpy as np"
   ]
  },
  {
   "cell_type": "markdown",
   "id": "1be83a16",
   "metadata": {},
   "source": [
    "## Load/Read image"
   ]
  },
  {
   "cell_type": "code",
   "execution_count": 2,
   "id": "2f5aad2b",
   "metadata": {},
   "outputs": [],
   "source": [
    "# Load as image using 'imread' specifying the path to image\n",
    "img=cv2.imread(r\"C:\\Users\\DELL'\\Desktop\\img_1725-1.webp\",1)"
   ]
  },
  {
   "cell_type": "code",
   "execution_count": 3,
   "id": "f75275ee",
   "metadata": {},
   "outputs": [
    {
     "name": "stdout",
     "output_type": "stream",
     "text": [
      "[[[ 96 163 227]\n",
      "  [ 96 163 227]\n",
      "  [ 96 163 227]\n",
      "  ...\n",
      "  [120 228 251]\n",
      "  [120 228 251]\n",
      "  [120 228 251]]\n",
      "\n",
      " [[ 96 163 227]\n",
      "  [ 96 163 227]\n",
      "  [ 96 163 227]\n",
      "  ...\n",
      "  [120 228 251]\n",
      "  [120 228 251]\n",
      "  [120 228 251]]\n",
      "\n",
      " [[ 96 163 227]\n",
      "  [ 96 163 227]\n",
      "  [ 96 163 227]\n",
      "  ...\n",
      "  [120 228 251]\n",
      "  [120 228 251]\n",
      "  [120 228 251]]\n",
      "\n",
      " ...\n",
      "\n",
      " [[102 205 225]\n",
      "  [102 205 225]\n",
      "  [102 205 225]\n",
      "  ...\n",
      "  [ 96 171 246]\n",
      "  [ 96 171 246]\n",
      "  [ 96 171 246]]\n",
      "\n",
      " [[102 205 225]\n",
      "  [102 205 225]\n",
      "  [102 205 225]\n",
      "  ...\n",
      "  [ 96 171 246]\n",
      "  [ 96 171 246]\n",
      "  [ 96 171 246]]\n",
      "\n",
      " [[101 204 223]\n",
      "  [101 204 223]\n",
      "  [101 204 223]\n",
      "  ...\n",
      "  [ 93 170 246]\n",
      "  [ 93 170 246]\n",
      "  [ 93 170 246]]]\n"
     ]
    }
   ],
   "source": [
    "print(img)"
   ]
  },
  {
   "cell_type": "markdown",
   "id": "5d8f8a1b",
   "metadata": {},
   "source": [
    "## Shape gives the dimensions of the image array"
   ]
  },
  {
   "cell_type": "code",
   "execution_count": 4,
   "id": "52fcfdfd",
   "metadata": {},
   "outputs": [
    {
     "data": {
      "text/plain": [
       "(945, 1290, 3)"
      ]
     },
     "execution_count": 4,
     "metadata": {},
     "output_type": "execute_result"
    }
   ],
   "source": [
    "#the 3D dimentions are 954 pixel in height * 1290 pixels wide\n",
    "#3 means that there are 3 components (RGB) that make up this image\n",
    "img.shape"
   ]
  },
  {
   "cell_type": "markdown",
   "id": "bb256418",
   "metadata": {},
   "source": [
    "## Display the image"
   ]
  },
  {
   "cell_type": "code",
   "execution_count": 5,
   "id": "9afdb284",
   "metadata": {},
   "outputs": [],
   "source": [
    "# To display ur image variable, we use 'imshow'\n",
    "# The first parameter will be title shown on image window\n",
    "# The second parameter is the image variable\n",
    "cv2.imshow('SRK',img)\n",
    "\n",
    "# 'waitKey' allows us to input information when a image window is open  \n",
    "# By leaving it blank it just waits for anykey to be pressed before continouing.\n",
    "# By placing numbers (except 0), we can specify a delay for\n",
    "# how long you keep the window open (time is in milliseconds here)\n",
    "\n",
    "cv2.waitKey(2000)\n",
    "\n",
    "#this closes all open windows \n",
    "# Failure to place this will cause your program to hand\n",
    "\n",
    "cv2.destroyAllWindows()"
   ]
  },
  {
   "cell_type": "code",
   "execution_count": 6,
   "id": "bf1dd98c",
   "metadata": {},
   "outputs": [],
   "source": [
    "img=cv2.imread(\"Desktop\\img_1725-1.webp\")\n",
    "cv2.imshow('KINGKHAN',img)\n",
    "cv2.waitKey()\n",
    "cv2.destroyAllWindows()"
   ]
  },
  {
   "cell_type": "markdown",
   "id": "082a50f2",
   "metadata": {},
   "source": [
    "## Save image"
   ]
  },
  {
   "cell_type": "code",
   "execution_count": 7,
   "id": "50c2258e",
   "metadata": {},
   "outputs": [
    {
     "data": {
      "text/plain": [
       "True"
      ]
     },
     "execution_count": 7,
     "metadata": {},
     "output_type": "execute_result"
    }
   ],
   "source": [
    "# Simple use 'imwrite' specificing the file name and the image to be saved\n",
    "cv2.imwrite(\"WEBP_File(.webp)\",img)"
   ]
  },
  {
   "cell_type": "markdown",
   "id": "f3c438fc",
   "metadata": {},
   "source": [
    "## Resize Image"
   ]
  },
  {
   "cell_type": "code",
   "execution_count": 8,
   "id": "164abdf8",
   "metadata": {},
   "outputs": [],
   "source": [
    "img=cv2.imread(\"Desktop\\img_1725-1.webp\")\n",
    "               \n",
    "resized_image=cv2.resize(img,(300,200))\n",
    "\n",
    "gray=cv2.cvtColor(resized_image,cv2.COLOR_BGR2GRAY)\n",
    "\n",
    "cv2.imshow(\"Shahrukh Image\", gray)\n",
    "\n",
    "cv2.waitKey()\n",
    "cv2.destroyAllWindows()"
   ]
  },
  {
   "cell_type": "code",
   "execution_count": 9,
   "id": "aa0861f2",
   "metadata": {},
   "outputs": [
    {
     "data": {
      "text/plain": [
       "472.5"
      ]
     },
     "execution_count": 9,
     "metadata": {},
     "output_type": "execute_result"
    }
   ],
   "source": [
    "img.shape[0]*0.5"
   ]
  },
  {
   "cell_type": "code",
   "execution_count": 10,
   "id": "233997a6",
   "metadata": {},
   "outputs": [
    {
     "data": {
      "text/plain": [
       "645.0"
      ]
     },
     "execution_count": 10,
     "metadata": {},
     "output_type": "execute_result"
    }
   ],
   "source": [
    "img.shape[1]*0.5"
   ]
  },
  {
   "cell_type": "markdown",
   "id": "36a4246a",
   "metadata": {},
   "source": [
    "## Face Detection using HAAR Cascade Classifiers"
   ]
  },
  {
   "cell_type": "code",
   "execution_count": 11,
   "id": "0e99169c",
   "metadata": {},
   "outputs": [],
   "source": [
    "# We point openCV's CascadeClassifier function to where our classifier (XML file format) is stored\n",
    "face_classifier=cv2.CascadeClassifier(r\"C:\\Users\\DELL'\\Downloads\\Haarcascades/haarcascade_frontalface_default.xml\")\n",
    "\n",
    "# Loud our image then convert is to grayscale\n",
    "image=cv2.imread(\"Desktop\\img_1725-1.webp\")\n",
    "image=cv2.resize(img,(200,300))\n",
    "gray=cv2.cvtColor(image,cv2.COLOR_BGR2GRAY)\n",
    "\n",
    "# Tuning Cascade Classifiers - detectMultiScale(input image, **Scale Factor**, **MIN Neighbors**)\n",
    "faces = face_classifier.detectMultiScale(gray, 1.05, 5)"
   ]
  },
  {
   "cell_type": "code",
   "execution_count": 12,
   "id": "23d2f948",
   "metadata": {},
   "outputs": [
    {
     "name": "stdout",
     "output_type": "stream",
     "text": [
      "[[60 52 95 95]]\n"
     ]
    }
   ],
   "source": [
    "print(faces)"
   ]
  },
  {
   "cell_type": "code",
   "execution_count": 13,
   "id": "9ed5a445",
   "metadata": {},
   "outputs": [
    {
     "name": "stderr",
     "output_type": "stream",
     "text": [
      "<>:10: SyntaxWarning: \"is\" with a literal. Did you mean \"==\"?\n",
      "<>:10: SyntaxWarning: \"is\" with a literal. Did you mean \"==\"?\n",
      "C:\\Users\\DELL'\\AppData\\Local\\Temp\\ipykernel_8896\\3694044712.py:10: SyntaxWarning: \"is\" with a literal. Did you mean \"==\"?\n",
      "  if faces is ():\n"
     ]
    }
   ],
   "source": [
    "face_classifier=cv2.CascadeClassifier(r\"C:\\Users\\DELL'\\Downloads\\Haarcascades\\haarcascade_frontalface_default.xml\")\n",
    "\n",
    "img=cv2.imread(\"Desktop\\img_1725-1.webp\")\n",
    "resized_image=cv2.resize(img,(200,300))\n",
    "gray=cv2.cvtColor(resized_image, cv2.COLOR_BGR2GRAY)\n",
    "\n",
    "faces=face_classifier.detectMultiScale(gray, 1.05,5)\n",
    "\n",
    "# When no faces detected, face_classifier returns and empty tuple\n",
    "if faces is ():\n",
    "    print(\"No faces found\")\n",
    "    \n",
    "for (x,y,w,h) in faces:\n",
    "    cv2.rectangle(image,(x,y),(x+y,y+h), (0,255,100),1)\n",
    "    \n",
    "cv2.imshow(\"Face Detection\", image)\n",
    "cv2.waitKey()\n",
    "cv2.destroyAllWindows()"
   ]
  },
  {
   "cell_type": "markdown",
   "id": "e0c18946",
   "metadata": {},
   "source": [
    "## Face & Eye detection using HAAR Cascade Classifiers in image"
   ]
  },
  {
   "cell_type": "code",
   "execution_count": 14,
   "id": "a47f5e58",
   "metadata": {},
   "outputs": [
    {
     "name": "stderr",
     "output_type": "stream",
     "text": [
      "<>:10: SyntaxWarning: \"is\" with a literal. Did you mean \"==\"?\n",
      "<>:10: SyntaxWarning: \"is\" with a literal. Did you mean \"==\"?\n",
      "C:\\Users\\DELL'\\AppData\\Local\\Temp\\ipykernel_8896\\4005412469.py:10: SyntaxWarning: \"is\" with a literal. Did you mean \"==\"?\n",
      "  if faces is ():\n"
     ]
    }
   ],
   "source": [
    "face_classifier=cv2.CascadeClassifier(r\"C:\\Users\\DELL'\\Downloads\\Haarcascades\\haarcascade_frontalface_default.xml\")\n",
    "eye_classifier=cv2.CascadeClassifier(r\"C:\\Users\\DELL'\\Downloads\\Haarcascades\\haarcascade_eye.xml\")\n",
    "\n",
    "img=cv2.imread(\"Desktop\\img_1725-1.webp\")\n",
    "resized_image=cv2.resize(img,(200,300))\n",
    "gray=cv2.cvtColor(resized_image, cv2.COLOR_BGR2GRAY)\n",
    "\n",
    "faces=face_classifier.detectMultiScale(gray, 1.03,5)\n",
    "\n",
    "if faces is ():\n",
    "    print(\"No faces found\")\n",
    "    \n",
    "for (x,y,w,h) in faces:\n",
    "    cv2.rectangle(resized_image,(x,y), (x+w,y+h), (255,0,0), 2)\n",
    "    roi_gray=gray[y:y+h, x:x+w]\n",
    "    roi_color=resized_image[y:y+h, x:x+w]\n",
    "    eyes=eye_classifier.detectMultiScale(roi_gray)\n",
    "    for (ex,ey,ew,eh) in eyes:\n",
    "        cv2.rectangle(roi_color, (ex,ey), (ex+ew,ey+eh), (0,255,0), 2)\n",
    "        \n",
    "cv2.imshow(\"img\", resized_image)\n",
    "cv2.waitKey(0)\n",
    "\n",
    "cv2.destroyAllWindows()"
   ]
  },
  {
   "cell_type": "markdown",
   "id": "1e76caf9",
   "metadata": {},
   "source": [
    "## Capture a video"
   ]
  },
  {
   "cell_type": "code",
   "execution_count": 15,
   "id": "b0ea7b54",
   "metadata": {},
   "outputs": [],
   "source": [
    "# doing some Face Recognition with the webcam\n",
    "\n",
    "import cv2\n",
    "video = cv2.VideoCapture(0) #0--webcam\n",
    "\n",
    "while True:\n",
    "    check, frame=video.read()\n",
    "    gray=cv2.cvtColor(frame, cv2.COLOR_BGR2GRAY)\n",
    "    cv2.imshow(\"VIdeo\", gray)\n",
    "    if cv2.waitKey(1) == ord(\"q\"):\n",
    "        break\n",
    "        \n",
    "video.release()\n",
    "cv2.destroyAllWindows()"
   ]
  },
  {
   "cell_type": "markdown",
   "id": "6ea6007e",
   "metadata": {},
   "source": [
    "## Face & Eyes Detection using HAAR Cascade Classifiers"
   ]
  },
  {
   "cell_type": "code",
   "execution_count": 16,
   "id": "fe7a92c5",
   "metadata": {},
   "outputs": [
    {
     "ename": "AttributeError",
     "evalue": "module 'cv2' has no attribute 'destroAllWindows'",
     "output_type": "error",
     "traceback": [
      "\u001b[1;31m---------------------------------------------------------------------------\u001b[0m",
      "\u001b[1;31mAttributeError\u001b[0m                            Traceback (most recent call last)",
      "Cell \u001b[1;32mIn[16], line 28\u001b[0m\n\u001b[0;32m     25\u001b[0m         \u001b[38;5;28;01mbreak\u001b[39;00m\n\u001b[0;32m     27\u001b[0m video\u001b[38;5;241m.\u001b[39mrelease()\n\u001b[1;32m---> 28\u001b[0m cv2\u001b[38;5;241m.\u001b[39mdestroAllWindows()\n",
      "\u001b[1;31mAttributeError\u001b[0m: module 'cv2' has no attribute 'destroAllWindows'"
     ]
    }
   ],
   "source": [
    "## Defining a function that will do the detections\n",
    "face_cascade = cv2.CascadeClassifier(r\"C:\\Users\\DELL'\\Downloads\\Haarcascades\\haarcascade_frontalface_default.xml\")\n",
    "eye_cascade = cv2.CascadeClassifier(r\"C:\\Users\\DELL'\\Downloads\\Haarcascades\\haarcascade_eye.xml\")\n",
    "\n",
    "def detect(gray, frame):\n",
    "    faces = face_classifier.detectMultiScale(gray, 1.03, 5)\n",
    "    for (x, y, w, h) in faces:\n",
    "        cv2.rectangle(frame, (x, y), (x + w, y + h), (255, 0, 0), 2)\n",
    "        roi_gray = gray[y:y + h, x:x + w]\n",
    "        roi_color = frame[y:y + h, x:x + w]\n",
    "        eyes = eye_cascade.detectMultiScale(roi_gray, 1.1,3)  # Corrected here\n",
    "        for (ex, ey, ew, eh) in eyes:\n",
    "            cv2.rectangle(roi_color, (ex, ey), (ex + ew, ey + eh), (0, 255, 0), 2)\n",
    "    return frame\n",
    "\n",
    "# Doing some Face Recognition with the webcam\n",
    "video = cv2.VideoCapture(0)\n",
    "\n",
    "while True:\n",
    "    check, frame = video.read()\n",
    "    gray = cv2.cvtColor(frame, cv2.COLOR_BGR2GRAY)\n",
    "    canvas=detect(gray, frame)\n",
    "    cv2.imshow(\"Video\", canvas)\n",
    "    if cv2.waitKey(1)==ord(\"q\"):\n",
    "        break\n",
    "    \n",
    "video.release()\n",
    "cv2.destroAllWindows()\n"
   ]
  },
  {
   "cell_type": "markdown",
   "id": "e772b6ac",
   "metadata": {},
   "source": [
    "## Pedistrian Detection"
   ]
  },
  {
   "cell_type": "code",
   "execution_count": null,
   "id": "d169ff60",
   "metadata": {},
   "outputs": [],
   "source": [
    "import cv2\n",
    "\n",
    "#creat our body classifier\n",
    "body_classifier=cv2.CascadeClassifier(r'D:\\Haarcascades\\haarcascade_fullbody.xml')\n",
    "\n",
    "#Initiate video capture for video file\n",
    "# cap=cv2.VideoCapture(r\"‪D:\\walking (1).avi\")\n",
    "cap=cv2.VideoCapture(r'D:\\walking (1).avi')\n",
    "\n",
    "#Loop once video is succesfully loaded\n",
    "while cap.isOpened():\n",
    "    \n",
    "    #read first frame\n",
    "    check, frame=cap.read()\n",
    "    gray=cv2.cvtColor(frame, cv2.COLOR_BGR2GRAY)\n",
    "    # pass frame to our body classifier\n",
    "    bodies=body_classifier.detectMultiScale(gray, 1.2, 3)\n",
    "    \n",
    "    #extract bounding boxes for any bodies identified\n",
    "    for (x,y,w,h) in bodies:\n",
    "        cv2.rectangle(frame, (x,y), (x+w, y+h), (0,255,255), 2)\n",
    "        cv2.imshow(\"Pedestrians\", frame)\n",
    "        \n",
    "    if cv2.waitKey(1)==ord('q'):\n",
    "        break\n",
    "        \n",
    "cap.release()\n",
    "cv2.destroyAllWindows()"
   ]
  },
  {
   "cell_type": "code",
   "execution_count": null,
   "id": "5dea52c7",
   "metadata": {},
   "outputs": [],
   "source": [
    "import cv2\n",
    "\n",
    "# cap=cv2.VideoCapture(r'D:\\walking (1).avi')\n",
    "cap=cv2.VideoCapture(r'D:\\walking (1).avi')\n",
    "check, frame=cap.read()\n"
   ]
  },
  {
   "cell_type": "code",
   "execution_count": null,
   "id": "0c3140fa",
   "metadata": {},
   "outputs": [],
   "source": [
    "import time\n",
    "\n",
    "#Create our body classifier\n",
    "car_classifier=cv2.CascadeClassifier(r'D:\\Haarcascades\\haarcascade_car.xml')\n",
    "\n",
    "# Initiate video capture for video file\n",
    "cap=cv2.VideoCapture(r\"D:\\\\cars.avi\")\n",
    "\n",
    "# Loop once video is succesfully loaded\n",
    "while cap.isOpened():\n",
    "    \n",
    "    time.sleep(.05)\n",
    "    #read first frame\n",
    "    check, frame=cap.read()\n",
    "    gray=cv2.cvtColor(frame, cv2.COLOR_BGR2GRAY)\n",
    "    \n",
    "    # pass frame to our car classifier\n",
    "    cars=car_classifier.detectMultiScale(gray, 1.4,2)\n",
    "    \n",
    "    # Extract bounding boxes for any bodies identified\n",
    "    for (x,y,w,h) in cars:\n",
    "        cv2.rectangle(frame, (x,y), (x+w, y+h), (0,255,255), 2)\n",
    "        cv2.imshow('Cars', frame)\n",
    "        \n",
    "    if cv2.waitKey(1)==ord('q'):\n",
    "        break\n",
    "        \n",
    "cap.release()\n",
    "cv2.destroyAllWindows()"
   ]
  },
  {
   "cell_type": "code",
   "execution_count": null,
   "id": "9bf5baaa",
   "metadata": {},
   "outputs": [],
   "source": [
    "import cv2\n",
    "cap=cv2.VideoCapture(r\"D:\\cars.avi\")\n",
    "while cap.isOpened():\n",
    "    i, frame = cap.read()\n",
    "    f1 = cv2.resize(frame, (700,500))\n",
    "    cv2.imshow('frame',f1)\n",
    "    \n",
    "    if cv2.waitKey(1)==ord('q'):\n",
    "        break\n",
    "        \n",
    "cap.release()\n",
    "cv2.destroyAllWindows()"
   ]
  },
  {
   "cell_type": "code",
   "execution_count": null,
   "id": "3eb13752",
   "metadata": {},
   "outputs": [],
   "source": []
  },
  {
   "cell_type": "code",
   "execution_count": null,
   "id": "8f3cc95e",
   "metadata": {},
   "outputs": [],
   "source": []
  }
 ],
 "metadata": {
  "kernelspec": {
   "display_name": "Python 3 (ipykernel)",
   "language": "python",
   "name": "python3"
  },
  "language_info": {
   "codemirror_mode": {
    "name": "ipython",
    "version": 3
   },
   "file_extension": ".py",
   "mimetype": "text/x-python",
   "name": "python",
   "nbconvert_exporter": "python",
   "pygments_lexer": "ipython3",
   "version": "3.11.5"
  }
 },
 "nbformat": 4,
 "nbformat_minor": 5
}
